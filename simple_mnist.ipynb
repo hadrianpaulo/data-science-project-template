{
 "cells": [
  {
   "cell_type": "code",
   "execution_count": 1,
   "metadata": {},
   "outputs": [],
   "source": [
    "import numpy as np\n",
    "import pandas as pd\n",
    "import sklearn\n",
    "from sklearn import datasets, ensemble, model_selection, linear_model, preprocessing, metrics\n",
    "import mlflow\n",
    "import h2o\n",
    "from h2o.automl import H2OAutoML"
   ]
  },
  {
   "cell_type": "markdown",
   "metadata": {},
   "source": [
    "## Dataset: MNIST"
   ]
  },
  {
   "cell_type": "code",
   "execution_count": 2,
   "metadata": {},
   "outputs": [],
   "source": [
    "X, y = datasets.load_digits(return_X_y=True, as_frame=True)"
   ]
  },
  {
   "cell_type": "code",
   "execution_count": 3,
   "metadata": {},
   "outputs": [],
   "source": [
    "X_train, X_test, y_train, y_test = model_selection.train_test_split(X, y, test_size=0.3, random_state=42)"
   ]
  },
  {
   "cell_type": "markdown",
   "metadata": {},
   "source": [
    "### Data Preprocessing"
   ]
  },
  {
   "cell_type": "code",
   "execution_count": 4,
   "metadata": {},
   "outputs": [],
   "source": [
    "scaler = preprocessing.StandardScaler()"
   ]
  },
  {
   "cell_type": "code",
   "execution_count": 5,
   "metadata": {},
   "outputs": [],
   "source": [
    "X_train_preprocessed = scaler.fit_transform(X_train)"
   ]
  },
  {
   "cell_type": "markdown",
   "metadata": {},
   "source": [
    "### Model Training"
   ]
  },
  {
   "cell_type": "code",
   "execution_count": 6,
   "metadata": {},
   "outputs": [
    {
     "name": "stdout",
     "output_type": "stream",
     "text": [
      "Checking whether there is an H2O instance running at http://localhost:54321 ..... not found.\n",
      "Attempting to start a local H2O server...\n",
      "  Java Version: openjdk version \"11.0.1\" 2018-10-16 LTS; OpenJDK Runtime Environment Zulu11.2+3 (build 11.0.1+13-LTS); OpenJDK 64-Bit Server VM Zulu11.2+3 (build 11.0.1+13-LTS, mixed mode)\n",
      "  Starting server from /home/hadrian/anaconda3/envs/py36/lib/python3.6/site-packages/h2o/backend/bin/h2o.jar\n",
      "  Ice root: /tmp/tmp178_h9ih\n",
      "  JVM stdout: /tmp/tmp178_h9ih/h2o_hadrian_started_from_python.out\n",
      "  JVM stderr: /tmp/tmp178_h9ih/h2o_hadrian_started_from_python.err\n",
      "  Server is running at http://127.0.0.1:54321\n",
      "Connecting to H2O server at http://127.0.0.1:54321 ... successful.\n",
      "Warning: Your H2O cluster version is too old (4 months and 10 days)! Please download and install the latest version from http://h2o.ai/download/\n"
     ]
    },
    {
     "data": {
      "text/html": [
       "<div style=\"overflow:auto\"><table style=\"width:50%\"><tr><td>H2O cluster uptime:</td>\n",
       "<td>01 secs</td></tr>\n",
       "<tr><td>H2O cluster timezone:</td>\n",
       "<td>Asia/Manila</td></tr>\n",
       "<tr><td>H2O data parsing timezone:</td>\n",
       "<td>UTC</td></tr>\n",
       "<tr><td>H2O cluster version:</td>\n",
       "<td>3.28.1.2</td></tr>\n",
       "<tr><td>H2O cluster version age:</td>\n",
       "<td>4 months and 10 days !!!</td></tr>\n",
       "<tr><td>H2O cluster name:</td>\n",
       "<td>H2O_from_python_hadrian_18ibwu</td></tr>\n",
       "<tr><td>H2O cluster total nodes:</td>\n",
       "<td>1</td></tr>\n",
       "<tr><td>H2O cluster free memory:</td>\n",
       "<td>1.881 Gb</td></tr>\n",
       "<tr><td>H2O cluster total cores:</td>\n",
       "<td>8</td></tr>\n",
       "<tr><td>H2O cluster allowed cores:</td>\n",
       "<td>8</td></tr>\n",
       "<tr><td>H2O cluster status:</td>\n",
       "<td>accepting new members, healthy</td></tr>\n",
       "<tr><td>H2O connection url:</td>\n",
       "<td>http://127.0.0.1:54321</td></tr>\n",
       "<tr><td>H2O connection proxy:</td>\n",
       "<td>{'http': None, 'https': None}</td></tr>\n",
       "<tr><td>H2O internal security:</td>\n",
       "<td>False</td></tr>\n",
       "<tr><td>H2O API Extensions:</td>\n",
       "<td>Amazon S3, XGBoost, Algos, AutoML, Core V3, TargetEncoder, Core V4</td></tr>\n",
       "<tr><td>Python version:</td>\n",
       "<td>3.6.10 final</td></tr></table></div>"
      ],
      "text/plain": [
       "--------------------------  ------------------------------------------------------------------\n",
       "H2O cluster uptime:         01 secs\n",
       "H2O cluster timezone:       Asia/Manila\n",
       "H2O data parsing timezone:  UTC\n",
       "H2O cluster version:        3.28.1.2\n",
       "H2O cluster version age:    4 months and 10 days !!!\n",
       "H2O cluster name:           H2O_from_python_hadrian_18ibwu\n",
       "H2O cluster total nodes:    1\n",
       "H2O cluster free memory:    1.881 Gb\n",
       "H2O cluster total cores:    8\n",
       "H2O cluster allowed cores:  8\n",
       "H2O cluster status:         accepting new members, healthy\n",
       "H2O connection url:         http://127.0.0.1:54321\n",
       "H2O connection proxy:       {'http': None, 'https': None}\n",
       "H2O internal security:      False\n",
       "H2O API Extensions:         Amazon S3, XGBoost, Algos, AutoML, Core V3, TargetEncoder, Core V4\n",
       "Python version:             3.6.10 final\n",
       "--------------------------  ------------------------------------------------------------------"
      ]
     },
     "metadata": {},
     "output_type": "display_data"
    }
   ],
   "source": [
    "h2o.init()"
   ]
  },
  {
   "cell_type": "code",
   "execution_count": 7,
   "metadata": {},
   "outputs": [],
   "source": [
    "aml = H2OAutoML(max_models=10, balance_classes=True, seed=1)"
   ]
  },
  {
   "cell_type": "code",
   "execution_count": 23,
   "metadata": {},
   "outputs": [
    {
     "name": "stdout",
     "output_type": "stream",
     "text": [
      "Parse progress: |█████████████████████████████████████████████████████████| 100%\n",
      "Parse progress: |█████████████████████████████████████████████████████████| 100%\n",
      "Parse progress: |█████████████████████████████████████████████████████████| 100%\n"
     ]
    }
   ],
   "source": [
    "train_h2o = h2o.H2OFrame(\n",
    "    X_train_preprocessed,\n",
    "    column_names=X_train.columns.tolist()\n",
    ")\n",
    "\n",
    "train_cols = train_h2o.columns\n",
    "\n",
    "train_h2o = train_h2o.cbind(\n",
    "    h2o.H2OFrame(y_train.values,\n",
    "                column_names=['label']),\n",
    ")\n",
    "\n",
    "test_col = 'label'\n",
    "\n",
    "train_h2o[test_col] = train_h2o[test_col].asfactor()\n",
    "\n",
    "test_h2o = h2o.H2OFrame(\n",
    "        scaler.transform(X_test),\n",
    "        column_names=X_train.columns.to_list()\n",
    ")"
   ]
  },
  {
   "cell_type": "code",
   "execution_count": 24,
   "metadata": {},
   "outputs": [
    {
     "name": "stdout",
     "output_type": "stream",
     "text": [
      "AutoML progress: |\n",
      "21:11:51.195: New models will be added to existing leaderboard AutoML_20200727_193156733@@label (leaderboard frame=null) with already 12 models.\n",
      "\n",
      "███████████████████\n",
      "21:15:43.400: StackedEnsemble_BestOfFamily_AutoML_20200727_211151 [StackedEnsemble best (built using top model from each algorithm type)] failed: water.exceptions.H2OIllegalArgumentException: Failed to find the xval predictions frame. . .  Looks like keep_cross_validation_predictions wasn't set when building the models, or the frame was deleted.\n",
      "21:15:44.402: StackedEnsemble_AllModels_AutoML_20200727_211151 [StackedEnsemble all (built using all AutoML models)] failed: water.exceptions.H2OIllegalArgumentException: Failed to find the xval predictions frame. . .  Looks like keep_cross_validation_predictions wasn't set when building the models, or the frame was deleted.\n",
      "\n",
      "█████████████████████████████████████| 100%\n"
     ]
    }
   ],
   "source": [
    "aml.train(train_cols, test_col, train_h2o)"
   ]
  },
  {
   "cell_type": "markdown",
   "metadata": {},
   "source": [
    "### Results"
   ]
  },
  {
   "cell_type": "code",
   "execution_count": 25,
   "metadata": {},
   "outputs": [
    {
     "name": "stdout",
     "output_type": "stream",
     "text": [
      "stackedensemble prediction progress: |████████████████████████████████████| 100%\n"
     ]
    }
   ],
   "source": [
    "preds = aml.predict(test_h2o)['predict'].as_data_frame()"
   ]
  },
  {
   "cell_type": "code",
   "execution_count": 26,
   "metadata": {},
   "outputs": [
    {
     "name": "stdout",
     "output_type": "stream",
     "text": [
      "              precision    recall  f1-score   support\n",
      "\n",
      "           0     1.0000    1.0000    1.0000        53\n",
      "           1     0.9804    1.0000    0.9901        50\n",
      "           2     1.0000    1.0000    1.0000        47\n",
      "           3     1.0000    0.9630    0.9811        54\n",
      "           4     1.0000    0.9833    0.9916        60\n",
      "           5     0.9552    0.9697    0.9624        66\n",
      "           6     0.9811    0.9811    0.9811        53\n",
      "           7     1.0000    0.9818    0.9908        55\n",
      "           8     0.9545    0.9767    0.9655        43\n",
      "           9     0.9667    0.9831    0.9748        59\n",
      "\n",
      "    accuracy                         0.9833       540\n",
      "   macro avg     0.9838    0.9839    0.9837       540\n",
      "weighted avg     0.9836    0.9833    0.9834       540\n",
      "\n"
     ]
    }
   ],
   "source": [
    "print(\n",
    "    metrics.classification_report(y_test, preds, digits=4)\n",
    ")"
   ]
  },
  {
   "cell_type": "code",
   "execution_count": 27,
   "metadata": {},
   "outputs": [
    {
     "data": {
      "text/html": [
       "<table>\n",
       "<thead>\n",
       "<tr><th>model_id                                           </th><th style=\"text-align: right;\">  mean_per_class_error</th><th style=\"text-align: right;\">  logloss</th><th style=\"text-align: right;\">    rmse</th><th style=\"text-align: right;\">      mse</th></tr>\n",
       "</thead>\n",
       "<tbody>\n",
       "<tr><td>StackedEnsemble_BestOfFamily_AutoML_20200727_193156</td><td style=\"text-align: right;\">             0.0287552</td><td style=\"text-align: right;\"> 0.10405 </td><td style=\"text-align: right;\">0.161265</td><td style=\"text-align: right;\">0.0260063</td></tr>\n",
       "<tr><td>StackedEnsemble_AllModels_AutoML_20200727_193156   </td><td style=\"text-align: right;\">             0.0295688</td><td style=\"text-align: right;\"> 0.555905</td><td style=\"text-align: right;\">0.420909</td><td style=\"text-align: right;\">0.177165 </td></tr>\n",
       "<tr><td>GBM_4_AutoML_20200727_193156                       </td><td style=\"text-align: right;\">             0.0367784</td><td style=\"text-align: right;\"> 0.118776</td><td style=\"text-align: right;\">0.175849</td><td style=\"text-align: right;\">0.0309229</td></tr>\n",
       "<tr><td>GBM_4_AutoML_20200727_211151                       </td><td style=\"text-align: right;\">             0.0367784</td><td style=\"text-align: right;\"> 0.118776</td><td style=\"text-align: right;\">0.175849</td><td style=\"text-align: right;\">0.0309229</td></tr>\n",
       "<tr><td>GBM_2_AutoML_20200727_211151                       </td><td style=\"text-align: right;\">             0.0369126</td><td style=\"text-align: right;\"> 0.118037</td><td style=\"text-align: right;\">0.17532 </td><td style=\"text-align: right;\">0.0307372</td></tr>\n",
       "<tr><td>GBM_2_AutoML_20200727_193156                       </td><td style=\"text-align: right;\">             0.0369126</td><td style=\"text-align: right;\"> 0.118037</td><td style=\"text-align: right;\">0.17532 </td><td style=\"text-align: right;\">0.0307372</td></tr>\n",
       "<tr><td>GBM_3_AutoML_20200727_211151                       </td><td style=\"text-align: right;\">             0.0377522</td><td style=\"text-align: right;\"> 0.119373</td><td style=\"text-align: right;\">0.179114</td><td style=\"text-align: right;\">0.0320818</td></tr>\n",
       "<tr><td>GBM_3_AutoML_20200727_193156                       </td><td style=\"text-align: right;\">             0.0377522</td><td style=\"text-align: right;\"> 0.119373</td><td style=\"text-align: right;\">0.179114</td><td style=\"text-align: right;\">0.0320818</td></tr>\n",
       "<tr><td>GLM_1_AutoML_20200727_211151                       </td><td style=\"text-align: right;\">             0.0382547</td><td style=\"text-align: right;\"> 0.119251</td><td style=\"text-align: right;\">0.178784</td><td style=\"text-align: right;\">0.0319636</td></tr>\n",
       "<tr><td>GLM_1_AutoML_20200727_193156                       </td><td style=\"text-align: right;\">             0.0382547</td><td style=\"text-align: right;\"> 0.119251</td><td style=\"text-align: right;\">0.178784</td><td style=\"text-align: right;\">0.0319636</td></tr>\n",
       "</tbody>\n",
       "</table>"
      ]
     },
     "metadata": {},
     "output_type": "display_data"
    },
    {
     "data": {
      "text/plain": []
     },
     "execution_count": 27,
     "metadata": {},
     "output_type": "execute_result"
    }
   ],
   "source": [
    "aml.leaderboard"
   ]
  },
  {
   "cell_type": "code",
   "execution_count": null,
   "metadata": {},
   "outputs": [],
   "source": []
  }
 ],
 "metadata": {
  "kernelspec": {
   "display_name": "Python 3",
   "language": "python",
   "name": "python3"
  },
  "language_info": {
   "codemirror_mode": {
    "name": "ipython",
    "version": 3
   },
   "file_extension": ".py",
   "mimetype": "text/x-python",
   "name": "python",
   "nbconvert_exporter": "python",
   "pygments_lexer": "ipython3",
   "version": "3.6.10"
  }
 },
 "nbformat": 4,
 "nbformat_minor": 4
}
